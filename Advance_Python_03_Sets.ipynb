{
  "nbformat": 4,
  "nbformat_minor": 0,
  "metadata": {
    "colab": {
      "name": "Advance_Python_03_Sets.ipynb",
      "provenance": [],
      "collapsed_sections": [],
      "authorship_tag": "ABX9TyOZBsr05L6JWXPHdyoGZsqB",
      "include_colab_link": true
    },
    "kernelspec": {
      "name": "python3",
      "display_name": "Python 3"
    },
    "language_info": {
      "name": "python"
    }
  },
  "cells": [
    {
      "cell_type": "markdown",
      "metadata": {
        "id": "view-in-github",
        "colab_type": "text"
      },
      "source": [
        "<a href=\"https://colab.research.google.com/github/deepak-dewani/Advance-Python-Programming/blob/main/Advance_Python_03_Sets.ipynb\" target=\"_parent\"><img src=\"https://colab.research.google.com/assets/colab-badge.svg\" alt=\"Open In Colab\"/></a>"
      ]
    },
    {
      "cell_type": "code",
      "execution_count": 4,
      "metadata": {
        "colab": {
          "base_uri": "https://localhost:8080/"
        },
        "id": "krkm5r5HETOt",
        "outputId": "cdcc5d79-c64c-46b1-e491-2b13c4e8ef6d"
      },
      "outputs": [
        {
          "output_type": "stream",
          "name": "stdout",
          "text": [
            "{1, 2, 3, 6}\n"
          ]
        }
      ],
      "source": [
        "#  Sets are unordered, mutable, does not allow duplicate elements\n",
        "\n",
        "#  Adding elements\n",
        "\n",
        "myset = {1,2,3,4,5}\n",
        "type(myset)\n",
        "\n",
        "# Doesn't allow duplicate\n",
        "\n",
        "myset = {1,2,3,1,2,3,1,2,6}\n",
        "print(myset)"
      ]
    },
    {
      "cell_type": "code",
      "source": [
        "# empty set\n",
        "\n",
        "myset = set([1,2,3,5,1,2,65,1,55,])\n",
        "type(myset)\n",
        "print(myset)\n",
        "\n",
        "myset1 = set(\"Hello world\")\n",
        "print(myset1)"
      ],
      "metadata": {
        "colab": {
          "base_uri": "https://localhost:8080/"
        },
        "id": "MFZ7hYxqE1jB",
        "outputId": "a4cd5e66-1e79-4662-ee16-4a6c978d526d"
      },
      "execution_count": 9,
      "outputs": [
        {
          "output_type": "stream",
          "name": "stdout",
          "text": [
            "{65, 1, 2, 3, 5, 55}\n",
            "{'r', 'l', 'd', 'o', 'H', 'w', ' ', 'e'}\n"
          ]
        }
      ]
    },
    {
      "cell_type": "code",
      "source": [
        "#  Adding and removing the elements \n",
        "\n",
        "myset = set()\n",
        "\n",
        "myset.add(1)\n",
        "myset.add(2)\n",
        "myset.add(5)\n",
        "\n",
        "print(myset)\n",
        "\n",
        "myset.remove(5)\n",
        "print(myset)\n",
        "\n",
        "myset.discard(2)\n",
        "print(myset)\n",
        "\n",
        "myset = set([1,2,3,5,9,3,1,5,2,1,5])\n",
        "print(myset)\n",
        "\n",
        "myset.pop()\n",
        "print(myset)\n",
        "\n",
        "\n",
        "# myset.clear()\n",
        "# print(myset)"
      ],
      "metadata": {
        "colab": {
          "base_uri": "https://localhost:8080/"
        },
        "id": "PN68C-krGbwR",
        "outputId": "606eb3f6-66f7-4865-e746-b2d6e597f6bc"
      },
      "execution_count": 27,
      "outputs": [
        {
          "output_type": "stream",
          "name": "stdout",
          "text": [
            "{1, 2, 5}\n",
            "{1, 2}\n",
            "{1}\n",
            "{1, 2, 3, 5, 9}\n",
            "{2, 3, 5, 9}\n"
          ]
        }
      ]
    },
    {
      "cell_type": "code",
      "source": [
        "#  Itering\n",
        "\n",
        "print(myset)\n",
        "\n",
        "for i in myset:\n",
        "  print(i)\n",
        "print(\"\\n\")\n",
        "if 1000 in myset:\n",
        "  print(\"Yes\")\n",
        "else:\n",
        "  print(\"No\")"
      ],
      "metadata": {
        "colab": {
          "base_uri": "https://localhost:8080/"
        },
        "id": "PrMrP1_IIAh3",
        "outputId": "57e41c43-05d8-4054-94e3-b23ee7b42bc2"
      },
      "execution_count": 34,
      "outputs": [
        {
          "output_type": "stream",
          "name": "stdout",
          "text": [
            "{2, 3, 5, 9}\n",
            "2\n",
            "3\n",
            "5\n",
            "9\n",
            "\n",
            "\n",
            "No\n"
          ]
        }
      ]
    },
    {
      "cell_type": "code",
      "source": [
        "#  Union, Intersection , subset\n",
        "\n",
        "x = {1,3,5,7,9}\n",
        "y = {0,2,4,6,8}\n",
        "z = {1,2,3,5,7,}\n",
        "\n",
        "u = x.union(y)\n",
        "print(u)\n",
        "\n",
        "v = x.intersection(y)\n",
        "print(v)\n",
        "\n",
        "w = x.intersection(z)\n",
        "print(w)\n",
        "\n",
        "n = y.intersection(z)\n",
        "print(n)"
      ],
      "metadata": {
        "colab": {
          "base_uri": "https://localhost:8080/"
        },
        "id": "xwm9Ta6mI1NN",
        "outputId": "ef87c39e-9883-4af9-c8ca-14fa2e194613"
      },
      "execution_count": 40,
      "outputs": [
        {
          "output_type": "stream",
          "name": "stdout",
          "text": [
            "{0, 1, 2, 3, 4, 5, 6, 7, 8, 9}\n",
            "set()\n",
            "{1, 3, 5, 7}\n",
            "{2}\n"
          ]
        }
      ]
    },
    {
      "cell_type": "code",
      "source": [
        "set1 = {1,2,3,4,5,6,7,8,9}\n",
        "set2 = {1,2,3,9,10,11,12,13,15,19}\n",
        "\n",
        "diff = set1.difference(set2)\n",
        "print(diff)\n",
        "\n",
        "diff1 = set2.difference(set1)\n",
        "print(diff1)\n",
        "\n",
        "sysdiff = set1.symmetric_difference(set2)\n",
        "print(sysdiff) \n",
        "\n",
        "sysdiff1 = set2.symmetric_difference(set1)\n",
        "print(sysdiff1)\n",
        "\n",
        "set1.update(set2)\n",
        "print(set1)\n",
        "\n",
        "set2.update(set1)\n",
        "print(set2)\n",
        "\n",
        "set1.intersection_update(set2)\n",
        "print(set1)"
      ],
      "metadata": {
        "colab": {
          "base_uri": "https://localhost:8080/"
        },
        "id": "6YxkgMjiKC4i",
        "outputId": "6e662c8b-1326-4d88-b151-a1e95eeba518"
      },
      "execution_count": 54,
      "outputs": [
        {
          "output_type": "stream",
          "name": "stdout",
          "text": [
            "{4, 5, 6, 7, 8}\n",
            "{10, 11, 12, 13, 15, 19}\n",
            "{4, 5, 6, 7, 8, 10, 11, 12, 13, 15, 19}\n",
            "{4, 5, 6, 7, 8, 10, 11, 12, 13, 15, 19}\n",
            "{1, 2, 3, 4, 5, 6, 7, 8, 9, 10, 11, 12, 13, 15, 19}\n",
            "{1, 2, 3, 4, 5, 6, 7, 8, 9, 10, 11, 12, 13, 15, 19}\n",
            "{1, 2, 3, 4, 5, 6, 7, 8, 9, 10, 11, 12, 13, 15, 19}\n"
          ]
        }
      ]
    },
    {
      "cell_type": "code",
      "source": [
        "set1 = {1,2,3,4,5,6,7,8,9}\n",
        "set2 = {1,2,3,9,10,11,12,13,15,19}\n",
        "\n",
        "# set1.difference_update(set2)\n",
        "# print(set1)\n",
        "\n",
        "set1.symmetric_difference_update(set2)\n",
        "print(set1)"
      ],
      "metadata": {
        "colab": {
          "base_uri": "https://localhost:8080/"
        },
        "id": "9icuHL0xN45z",
        "outputId": "20359967-8873-4e53-b40a-371504ecc445"
      },
      "execution_count": 57,
      "outputs": [
        {
          "output_type": "stream",
          "name": "stdout",
          "text": [
            "{4, 5, 6, 7, 8, 10, 11, 12, 13, 15, 19}\n"
          ]
        }
      ]
    },
    {
      "cell_type": "code",
      "source": [
        "# superset subset disjoin\n",
        "set1 = {1,2,3,4,5,6,7,8,9}\n",
        "set2 = {1,2,3,9}\n",
        "# Subset\n",
        "print(set1.issubset(set2))\n",
        "print(set2.issubset(set1))\n",
        "\n",
        "print(\"\\n\")\n",
        "\n",
        "# superset\n",
        "print(set1.issuperset(set2))\n",
        "print(set2.issuperset(set1))\n",
        "\n",
        "print(\"\\n\")\n",
        "\n",
        "# Disjoin\n",
        "\n",
        "print(set1.isdisjoint(set2))\n",
        "print(set2.isdisjoint(set1))\n",
        "\n",
        "print(\"\\n\")\n",
        "\n",
        "set3 = {15,96,66}\n",
        "\n",
        "print(set1.isdisjoint(set3))\n",
        "print(set2.isdisjoint(set3))\n"
      ],
      "metadata": {
        "colab": {
          "base_uri": "https://localhost:8080/"
        },
        "id": "-d7f0HTwO7jz",
        "outputId": "80ad9599-af22-403b-8a8d-6660d96bf369"
      },
      "execution_count": 6,
      "outputs": [
        {
          "output_type": "stream",
          "name": "stdout",
          "text": [
            "False\n",
            "True\n",
            "\n",
            "\n",
            "True\n",
            "False\n",
            "\n",
            "\n",
            "False\n",
            "False\n",
            "\n",
            "\n",
            "True\n",
            "True\n"
          ]
        }
      ]
    },
    {
      "cell_type": "code",
      "source": [
        "dir(myset)"
      ],
      "metadata": {
        "colab": {
          "base_uri": "https://localhost:8080/"
        },
        "id": "HoPIAWrqFigU",
        "outputId": "87480838-6050-4e4a-a8bd-9c570162a780"
      },
      "execution_count": 16,
      "outputs": [
        {
          "output_type": "execute_result",
          "data": {
            "text/plain": [
              "['__and__',\n",
              " '__class__',\n",
              " '__contains__',\n",
              " '__delattr__',\n",
              " '__dir__',\n",
              " '__doc__',\n",
              " '__eq__',\n",
              " '__format__',\n",
              " '__ge__',\n",
              " '__getattribute__',\n",
              " '__gt__',\n",
              " '__hash__',\n",
              " '__iand__',\n",
              " '__init__',\n",
              " '__init_subclass__',\n",
              " '__ior__',\n",
              " '__isub__',\n",
              " '__iter__',\n",
              " '__ixor__',\n",
              " '__le__',\n",
              " '__len__',\n",
              " '__lt__',\n",
              " '__ne__',\n",
              " '__new__',\n",
              " '__or__',\n",
              " '__rand__',\n",
              " '__reduce__',\n",
              " '__reduce_ex__',\n",
              " '__repr__',\n",
              " '__ror__',\n",
              " '__rsub__',\n",
              " '__rxor__',\n",
              " '__setattr__',\n",
              " '__sizeof__',\n",
              " '__str__',\n",
              " '__sub__',\n",
              " '__subclasshook__',\n",
              " '__xor__',\n",
              " 'add',\n",
              " 'clear',\n",
              " 'copy',\n",
              " 'difference',\n",
              " 'difference_update',\n",
              " 'discard',\n",
              " 'intersection',\n",
              " 'intersection_update',\n",
              " 'isdisjoint',\n",
              " 'issubset',\n",
              " 'issuperset',\n",
              " 'pop',\n",
              " 'remove',\n",
              " 'symmetric_difference',\n",
              " 'symmetric_difference_update',\n",
              " 'union',\n",
              " 'update']"
            ]
          },
          "metadata": {},
          "execution_count": 16
        }
      ]
    },
    {
      "cell_type": "code",
      "source": [
        ""
      ],
      "metadata": {
        "id": "Ja9H1wfYG4_W"
      },
      "execution_count": null,
      "outputs": []
    }
  ]
}