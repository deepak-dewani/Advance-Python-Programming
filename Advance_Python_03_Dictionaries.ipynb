{
  "nbformat": 4,
  "nbformat_minor": 0,
  "metadata": {
    "colab": {
      "name": "Advance_Python_03_Dictionaries.ipynb",
      "provenance": [],
      "collapsed_sections": [],
      "authorship_tag": "ABX9TyONA5UwVyWlZJvGKZo5wG05",
      "include_colab_link": true
    },
    "kernelspec": {
      "name": "python3",
      "display_name": "Python 3"
    },
    "language_info": {
      "name": "python"
    }
  },
  "cells": [
    {
      "cell_type": "markdown",
      "metadata": {
        "id": "view-in-github",
        "colab_type": "text"
      },
      "source": [
        "<a href=\"https://colab.research.google.com/github/deepak-dewani/Advance-Python-Programming/blob/main/Advance_Python_03_Dictionaries.ipynb\" target=\"_parent\"><img src=\"https://colab.research.google.com/assets/colab-badge.svg\" alt=\"Open In Colab\"/></a>"
      ]
    },
    {
      "cell_type": "code",
      "execution_count": 3,
      "metadata": {
        "colab": {
          "base_uri": "https://localhost:8080/"
        },
        "id": "dtzq-ZmNYPlT",
        "outputId": "0d42d29a-8ab9-49be-fa29-5a3954a3d656"
      },
      "outputs": [
        {
          "output_type": "stream",
          "name": "stdout",
          "text": [
            "{}\n",
            "{}\n"
          ]
        },
        {
          "output_type": "execute_result",
          "data": {
            "text/plain": [
              "dict"
            ]
          },
          "metadata": {},
          "execution_count": 3
        }
      ],
      "source": [
        "#  Dictionaries are collection datatype which has key:value pairs, unordered and mutuable.\n",
        "\n",
        "#  Empty Dictonaries\n",
        "\n",
        "d = {}\n",
        "print(d)\n",
        "d= dict()\n",
        "print(d)\n",
        "type(d)"
      ]
    },
    {
      "cell_type": "code",
      "source": [
        "#  Adding Element to dict\n",
        "d = {\"Name\": \"Deepak\", \"Age\": \"28\", \"City\": \"Nagpur\"}\n",
        "print(d)\n",
        "\n",
        "d1 = dict(Name=\"Ram\", Age=\"29\", City=\"Mumbai\")\n",
        "print(d1)\n",
        "\n",
        "value = d[\"Name\"]\n",
        "print(value)\n",
        "value = d[\"Age\"]\n",
        "print(value)\n",
        "value = d[\"City\"]\n",
        "print(value)"
      ],
      "metadata": {
        "colab": {
          "base_uri": "https://localhost:8080/"
        },
        "id": "uAVDizfxZRlH",
        "outputId": "aebb03c4-ffd1-441c-e208-1b5b62bd8441"
      },
      "execution_count": 17,
      "outputs": [
        {
          "output_type": "stream",
          "name": "stdout",
          "text": [
            "{'Name': 'Deepak', 'Age': '28', 'City': 'Nagpur'}\n",
            "{'Name': 'Ram', 'Age': '29', 'City': 'Mumbai'}\n",
            "Deepak\n",
            "28\n",
            "Nagpur\n"
          ]
        }
      ]
    },
    {
      "cell_type": "code",
      "source": [
        "# appending in dict\n",
        "\n",
        "\n",
        "d[\"email\"]= \"abc@xyz.com\"\n",
        "print(d)"
      ],
      "metadata": {
        "colab": {
          "base_uri": "https://localhost:8080/"
        },
        "id": "BEHTDx4Tbg5W",
        "outputId": "22d0326a-3b11-46d0-b2d7-4c272cc1d7ed"
      },
      "execution_count": 20,
      "outputs": [
        {
          "output_type": "stream",
          "name": "stdout",
          "text": [
            "{'Name': 'Deepak', 'Age': '28', 'City': 'Nagpur', 'email': 'abc@xyz.com'}\n"
          ]
        }
      ]
    },
    {
      "cell_type": "code",
      "source": [
        "# Deleting the elements\n",
        "\n",
        "d = {\"Name\": \"Deepak\", \"Age\": \"28\", \"City\": \"Nagpur\"}\n",
        "print(d)\n",
        "\n",
        "# del d[\"Name\"]\n",
        "# print(d)\n",
        "\n",
        "d.pop(\"City\")\n",
        "print(d)"
      ],
      "metadata": {
        "colab": {
          "base_uri": "https://localhost:8080/"
        },
        "id": "BOyH45BjcISY",
        "outputId": "c6ecf4ca-0b5f-454e-fe31-8b0037feb209"
      },
      "execution_count": 30,
      "outputs": [
        {
          "output_type": "stream",
          "name": "stdout",
          "text": [
            "{'Name': 'Deepak', 'Age': '28', 'City': 'Nagpur'}\n",
            "{'Name': 'Deepak', 'Age': '28'}\n"
          ]
        }
      ]
    },
    {
      "cell_type": "code",
      "source": [
        "dir(d)"
      ],
      "metadata": {
        "colab": {
          "base_uri": "https://localhost:8080/"
        },
        "id": "6zxAw6fiZx6_",
        "outputId": "49c96292-5616-4478-c2ca-a765b1fb1f6c"
      },
      "execution_count": 21,
      "outputs": [
        {
          "output_type": "execute_result",
          "data": {
            "text/plain": [
              "['__class__',\n",
              " '__contains__',\n",
              " '__delattr__',\n",
              " '__delitem__',\n",
              " '__dir__',\n",
              " '__doc__',\n",
              " '__eq__',\n",
              " '__format__',\n",
              " '__ge__',\n",
              " '__getattribute__',\n",
              " '__getitem__',\n",
              " '__gt__',\n",
              " '__hash__',\n",
              " '__init__',\n",
              " '__init_subclass__',\n",
              " '__iter__',\n",
              " '__le__',\n",
              " '__len__',\n",
              " '__lt__',\n",
              " '__ne__',\n",
              " '__new__',\n",
              " '__reduce__',\n",
              " '__reduce_ex__',\n",
              " '__repr__',\n",
              " '__setattr__',\n",
              " '__setitem__',\n",
              " '__sizeof__',\n",
              " '__str__',\n",
              " '__subclasshook__',\n",
              " 'clear',\n",
              " 'copy',\n",
              " 'fromkeys',\n",
              " 'get',\n",
              " 'items',\n",
              " 'keys',\n",
              " 'pop',\n",
              " 'popitem',\n",
              " 'setdefault',\n",
              " 'update',\n",
              " 'values']"
            ]
          },
          "metadata": {},
          "execution_count": 21
        }
      ]
    },
    {
      "cell_type": "code",
      "source": [
        ""
      ],
      "metadata": {
        "id": "dd6E5_s3b0yj"
      },
      "execution_count": null,
      "outputs": []
    }
  ]
}