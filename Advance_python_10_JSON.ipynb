{
  "nbformat": 4,
  "nbformat_minor": 0,
  "metadata": {
    "colab": {
      "name": "Advance_python_10_JSON.ipynb",
      "provenance": [],
      "collapsed_sections": [],
      "authorship_tag": "ABX9TyOoxj3an9NBo+0eM0Lqw5j7",
      "include_colab_link": true
    },
    "kernelspec": {
      "name": "python3",
      "display_name": "Python 3"
    },
    "language_info": {
      "name": "python"
    }
  },
  "cells": [
    {
      "cell_type": "markdown",
      "metadata": {
        "id": "view-in-github",
        "colab_type": "text"
      },
      "source": [
        "<a href=\"https://colab.research.google.com/github/deepak-dewani/Advance-Python-Programming/blob/main/Advance_python_10_JSON.ipynb\" target=\"_parent\"><img src=\"https://colab.research.google.com/assets/colab-badge.svg\" alt=\"Open In Colab\"/></a>"
      ]
    },
    {
      "cell_type": "markdown",
      "source": [
        "# **Chapter - Advance Python**\n",
        "# **Name - JSON**\n",
        "**Description - Use of commands**"
      ],
      "metadata": {
        "id": "D4Fw2lm3xUL2"
      }
    },
    {
      "cell_type": "markdown",
      "source": [
        "**JSON Format**\n",
        "\n",
        "JSON is a syntax for storing and exchanging data.\n",
        "\n",
        "JSON is text, written with JavaScript object notation.\n",
        "\n",
        "**Syntax: import json**\n",
        "\n",
        "{\n",
        "\n",
        "    \"name\": \"Deepak\",\n",
        "    \"age\": \"28\",\n",
        "    \"city\": \"Nagpur\",\n",
        "    \"haschildren\": false,\n",
        "    \"titles\": [\n",
        "        \"engineer\",\n",
        "        \"doctor\"\n",
        "    ]\n",
        "}"
      ],
      "metadata": {
        "id": "KUPFGGCS85x5"
      }
    },
    {
      "cell_type": "markdown",
      "source": [
        "**Note That:  Simple Python objects are translated to JSON according to the following conversion:**\n",
        "\n",
        "      Python                                                JSON \n",
        "      dict                                                 object \n",
        "      list, tuple                                          array  \n",
        "      str                                                  string \n",
        "      int, long,float                                      number \n",
        "      True                                                 true \n",
        "      False                                                false \n",
        "      None                                                 null "
      ],
      "metadata": {
        "id": "DcWlr4wCdvjj"
      }
    },
    {
      "cell_type": "markdown",
      "source": [
        "**Serialization or Encoding**\n",
        "\n",
        "Converting Dictonaries Into JSON Data\n",
        "\n",
        "Convert from Python to JSON\n",
        "\n",
        "If you have a Python object, you can convert it into a JSON string by using the **json.dumps()** method."
      ],
      "metadata": {
        "id": "xJmhdtyhxjLN"
      }
    },
    {
      "cell_type": "code",
      "execution_count": 2,
      "metadata": {
        "colab": {
          "base_uri": "https://localhost:8080/"
        },
        "id": "kJFG52GAxOGj",
        "outputId": "494c65ad-4f67-48b9-bf73-d8fcb6a894ef"
      },
      "outputs": [
        {
          "output_type": "stream",
          "name": "stdout",
          "text": [
            "{\"name\": \"Deepak\", \"age\": \"28\", \"city\": \"Nagpur\", \"haschildren\": false, \"titles\": [\"engineer\", \"doctor\"]}\n",
            "{\n",
            "    \"name\": \"Deepak\",\n",
            "    \"age\": \"28\",\n",
            "    \"city\": \"Nagpur\",\n",
            "    \"haschildren\": false,\n",
            "    \"titles\": [\n",
            "        \"engineer\",\n",
            "        \"doctor\"\n",
            "    ]\n",
            "}\n"
          ]
        }
      ],
      "source": [
        "import json\n",
        "\n",
        "person = {\"name\": \"Deepak\", \"age\": \"28\", \"city\": \"Nagpur\", \"haschildren\": False, \"titles\": [\"engineer\", \"doctor\"]}\n",
        "\n",
        "#Converting python object to JSON\n",
        "people_json = json.dumps(person)\n",
        "print(people_json)\n",
        "\n",
        "# Giving same style to JSON Object\n",
        "people_json = json.dumps(person, indent = 4)\n",
        "print(people_json)\n"
      ]
    },
    {
      "cell_type": "markdown",
      "source": [
        "**Changing some Separators**"
      ],
      "metadata": {
        "id": "a8JhLLBYhepj"
      }
    },
    {
      "cell_type": "code",
      "source": [
        "import json\n",
        "\n",
        "person = {\"name\": \"Deepak\", \"age\": \"28\", \"city\": \"Nagpur\", \"haschildren\": False, \"titles\": [\"engineer\", \"doctor\"]}\n",
        "\n",
        "# with default separators\n",
        "people_json = json.dumps(person, indent = 4)\n",
        "print(people_json, \"\\n\")\n",
        "\n",
        "# With our own custom separators\n",
        "people_json = json.dumps(person, indent = 4, separators=(\";\",\"=\"))\n",
        "print(people_json)\n",
        "\n",
        "# Rearranging with the help of sort_key method\n",
        "people_json1 = json.dumps(person, indent = 4, sort_keys = True)\n",
        "print(people_json1)\n"
      ],
      "metadata": {
        "colab": {
          "base_uri": "https://localhost:8080/"
        },
        "id": "oM88dQ8kyIPG",
        "outputId": "653b1f31-6ada-44fa-e3d7-0f7cb62a215d"
      },
      "execution_count": 8,
      "outputs": [
        {
          "output_type": "stream",
          "name": "stdout",
          "text": [
            "{\n",
            "    \"name\": \"Deepak\",\n",
            "    \"age\": \"28\",\n",
            "    \"city\": \"Nagpur\",\n",
            "    \"haschildren\": false,\n",
            "    \"titles\": [\n",
            "        \"engineer\",\n",
            "        \"doctor\"\n",
            "    ]\n",
            "} \n",
            "\n",
            "{\n",
            "    \"name\"=\"Deepak\";\n",
            "    \"age\"=\"28\";\n",
            "    \"city\"=\"Nagpur\";\n",
            "    \"haschildren\"=false;\n",
            "    \"titles\"=[\n",
            "        \"engineer\";\n",
            "        \"doctor\"\n",
            "    ]\n",
            "}\n",
            "{\n",
            "    \"age\": \"28\",\n",
            "    \"city\": \"Nagpur\",\n",
            "    \"haschildren\": false,\n",
            "    \"name\": \"Deepak\",\n",
            "    \"titles\": [\n",
            "        \"engineer\",\n",
            "        \"doctor\"\n",
            "    ]\n",
            "}\n"
          ]
        }
      ]
    },
    {
      "cell_type": "code",
      "source": [
        ""
      ],
      "metadata": {
        "id": "wh1NytIy_8x5"
      },
      "execution_count": null,
      "outputs": []
    }
  ]
}