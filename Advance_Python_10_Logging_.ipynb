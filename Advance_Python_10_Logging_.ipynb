{
  "nbformat": 4,
  "nbformat_minor": 0,
  "metadata": {
    "colab": {
      "name": "Advance_Python_10_Logging .ipynb",
      "provenance": [],
      "collapsed_sections": [],
      "authorship_tag": "ABX9TyNPsuxL8yLgoW3bOIchBEnA",
      "include_colab_link": true
    },
    "kernelspec": {
      "name": "python3",
      "display_name": "Python 3"
    },
    "language_info": {
      "name": "python"
    }
  },
  "cells": [
    {
      "cell_type": "markdown",
      "metadata": {
        "id": "view-in-github",
        "colab_type": "text"
      },
      "source": [
        "<a href=\"https://colab.research.google.com/github/deepak-dewani/Advance-Python-Programming/blob/main/Advance_Python_10_Logging_.ipynb\" target=\"_parent\"><img src=\"https://colab.research.google.com/assets/colab-badge.svg\" alt=\"Open In Colab\"/></a>"
      ]
    },
    {
      "cell_type": "markdown",
      "source": [
        "**Chapter - Advance Python**\n",
        "**Logging **\n",
        "\n",
        "The logging module in Python is a powerful built-in module so you can quickly add logging to your application.\n",
        "\n",
        "**import logging**"
      ],
      "metadata": {
        "id": "4QSkC3S1ZqjU"
      }
    },
    {
      "cell_type": "markdown",
      "source": [
        "**Log Level**\n",
        "\n",
        "There are 5 different log levels indicating the serverity of events. By default, the system logs only events with level WARNING and above."
      ],
      "metadata": {
        "id": "JwwnzwivaPYj"
      }
    },
    {
      "cell_type": "code",
      "execution_count": 1,
      "metadata": {
        "colab": {
          "base_uri": "https://localhost:8080/"
        },
        "id": "_ft7jeHIZipY",
        "outputId": "ac378ffc-b02c-4c01-e009-68eef505374c"
      },
      "outputs": [
        {
          "output_type": "stream",
          "name": "stderr",
          "text": [
            "WARNING:root:This is a warning message\n",
            "ERROR:root:This is an error message\n",
            "CRITICAL:root:This is a critical message\n"
          ]
        }
      ],
      "source": [
        "import logging\n",
        "logging.debug('This is a debug message')\n",
        "logging.info('This is an info message')\n",
        "logging.warning('This is a warning message')\n",
        "logging.error('This is an error message')\n",
        "logging.critical('This is a critical message')"
      ]
    },
    {
      "cell_type": "markdown",
      "source": [
        "**Configuration**\n",
        "With basicConfig(**kwargs) you can customize the root logger. The most common parameters are the level, the format, and the filename. See https://docs.python.org/3/library/logging.html#logging.basicConfig for all possible arguments. See also https://docs.python.org/3/library/logging.html#logrecord-attributes for possible formats and https://docs.python.org/3/library/time.html#time.strftime how to set the time string. Note that this function should only be called once, and typically first thing after importing the module. It has no effect if the root logger already has handlers configured. For example calling logging.info(...) before the basicConfig will already set a handler."
      ],
      "metadata": {
        "id": "TUrTwJH-aWYx"
      }
    },
    {
      "cell_type": "code",
      "source": [
        "import logging\n",
        "logging.basicConfig(level=logging.DEBUG, format='%(asctime)s - %(name)s - %(levelname)s - %(message)s', datefmt='%m/%d/%Y %H:%M:%S')\n",
        "# Now also debug messages will get logged with a different format.\n",
        "logging.debug('Debug message')\n",
        "\n",
        "# This would log to a file instead of the console.\n",
        "# logging.basicConfig(level=logging.DEBUG, filename='app.log')"
      ],
      "metadata": {
        "id": "paXRpHFTaZJ3"
      },
      "execution_count": 3,
      "outputs": []
    },
    {
      "cell_type": "markdown",
      "source": [
        "**Logging in modules and logger hierarchy**\n",
        "\n",
        "Best practice in your application with multiple modules is to create an internal logger using the __name__ global variable. This will create a logger with the name of your module and ensures no name collisions. The logging module creates a hierarchy of loggers, starting with the root logger, and adding the new logger to this hierarchy. If you then import your module in another module, log messages can be associated with the correct module through the logger name. Note that changing the basicConfig of the root logger will also affect the log events of the other (lower) loggers in the hierarchy."
      ],
      "metadata": {
        "id": "OUebltzLakBi"
      }
    },
    {
      "cell_type": "code",
      "source": [
        "# helper.py\n",
        "# -------------------------------------\n",
        "import logging\n",
        "logger = logging.getLogger(__name__)\n",
        "logger.info('HELLO')\n",
        "\n",
        "# main.py\n",
        "# -------------------------------------\n",
        "import logging\n",
        "logging.basicConfig(level=logging.INFO, format='%(name)s - %(levelname)s - %(message)s')\n",
        "import helper\n",
        "\n",
        "# --> Output when running main.py\n",
        "# helper - INFO - HELLO"
      ],
      "metadata": {
        "id": "Q_G1sLsVaiGR"
      },
      "execution_count": 4,
      "outputs": []
    },
    {
      "cell_type": "markdown",
      "source": [
        "**Propagation**\n",
        "\n",
        "By default, all created loggers will pass the log events to the handlers of higher loggers, in addition to any handlers attached to the created logger. You can deactivate this by setting propagate = False. Sometimes when you wonder why you don't see log messages from another module, then this property may be the reason."
      ],
      "metadata": {
        "id": "Qyt5O7U8atIH"
      }
    },
    {
      "cell_type": "code",
      "source": [
        "# helper.py\n",
        "# -------------------------------------\n",
        "import logging\n",
        "logger = logging.getLogger(__name__)\n",
        "logger.propagate = False\n",
        "logger.info('HELLO')\n",
        "\n",
        "# main.py\n",
        "# -------------------------------------\n",
        "import logging\n",
        "logging.basicConfig(level=logging.INFO, format='%(name)s - %(levelname)s - %(message)s')\n",
        "import helper\n",
        "\n",
        "# --> No output when running main.py since the helper module logger does not propagate its messages to the root logge"
      ],
      "metadata": {
        "id": "aQOzm7w-arU2"
      },
      "execution_count": 5,
      "outputs": []
    },
    {
      "cell_type": "markdown",
      "source": [
        "**LogHandlers**\n",
        "\n",
        "Handler objects are responsible for dispatching the appropriate log messages to the handler's specific destination. For example you can use different handlers to send log messaged to the standard output stream, to files, via HTTP, or via Email. Typically you configure each handler with a level (setLevel()), a formatter (setFormatter()), and optionally a filter (addFilter()). See https://docs.python.org/3/howto/logging.html#useful-handlers for possible built-in handlers. Of course you can also implement your own handlers by deriving from these classes."
      ],
      "metadata": {
        "id": "dBvoIgYfa2Lv"
      }
    },
    {
      "cell_type": "code",
      "source": [
        "import logging\n",
        "\n",
        "logger = logging.getLogger(__name__)\n",
        "\n",
        "# Create handlers\n",
        "stream_handler = logging.StreamHandler()\n",
        "file_handler = logging.FileHandler('file.log')\n",
        "\n",
        "# Configure level and formatter and add it to handlers\n",
        "stream_handler.setLevel(logging.WARNING) # warning and above is logged to the stream\n",
        "file_handler.setLevel(logging.ERROR) # error and above is logged to a file\n",
        "\n",
        "stream_format = logging.Formatter('%(name)s - %(levelname)s - %(message)s')\n",
        "file_format = logging.Formatter('%(asctime)s - %(name)s - %(levelname)s - %(message)s')\n",
        "stream_handler.setFormatter(stream_format)\n",
        "file_handler.setFormatter(file_format)\n",
        "\n",
        "# Add handlers to the logger\n",
        "logger.addHandler(stream_handler)\n",
        "logger.addHandler(file_handler)\n",
        "\n",
        "logger.warning('This is a warning') # logged to the stream\n",
        "logger.error('This is an error') # logged to the stream AND the file!"
      ],
      "metadata": {
        "colab": {
          "base_uri": "https://localhost:8080/"
        },
        "id": "mX6ZyyVta0iQ",
        "outputId": "993f33f2-f09f-4abe-edc5-1eb429885930"
      },
      "execution_count": 6,
      "outputs": [
        {
          "output_type": "stream",
          "name": "stderr",
          "text": [
            "__main__ - WARNING - This is a warning\n",
            "__main__ - ERROR - This is an error\n"
          ]
        }
      ]
    },
    {
      "cell_type": "markdown",
      "source": [
        "**Example of a filter**"
      ],
      "metadata": {
        "id": "XXaLq8BGbA50"
      }
    },
    {
      "cell_type": "code",
      "source": [
        "class InfoFilter(logging.Filter):\n",
        "    \n",
        "    # overwrite this method. Only log records for which this\n",
        "    # function evaluates to True will pass the filter.\n",
        "    def filter(self, record):\n",
        "        return record.levelno == logging.INFO\n",
        "\n",
        "# Now only INFO level messages will be logged\n",
        "stream_handler.addFilter(InfoFilter())\n",
        "logger.addHandler(stream_handler)"
      ],
      "metadata": {
        "id": "VQwN1Jrma-m8"
      },
      "execution_count": 7,
      "outputs": []
    },
    {
      "cell_type": "markdown",
      "source": [
        "**Other configuration methods**\n",
        "\n",
        "We have seen how to configure logging creating loggers, handlers, and formatters explicitely in code. There are two other configration methods: - Creating a logging config file and reading it using the fileConfig() function. See example below. - Creating a dictionary of configuration information and passing it to the dictConfig() function. See https://docs.python.org/3/library/logging.config.html#logging.config.dictConfig for more information.\n",
        "\n",
        "**.conf file**\n",
        "\n",
        "Create a .conf (or sometimes stored as .ini) file, define the loggers, handlers, and formatters and provide the names as keys. After their names are defined, they are configured by adding the words logger, handler, and formatter before their names separated by an underscore. Then you can set the properties for each logger, handler, and formatter. In the example below, the root logger and a logger named simpleExample will be configured with a StreamHandler."
      ],
      "metadata": {
        "id": "5pBURWIcbGBN"
      }
    },
    {
      "cell_type": "code",
      "source": [
        "# logging.conf\n",
        "[loggers]\n",
        "keys=root,simpleExample\n",
        "\n",
        "[handlers]\n",
        "keys=consoleHandler\n",
        "\n",
        "[formatters]\n",
        "keys=simpleFormatter\n",
        "\n",
        "[logger_root]\n",
        "level=DEBUG\n",
        "handlers=consoleHandler\n",
        "\n",
        "[logger_simpleExample]\n",
        "level=DEBUG\n",
        "handlers=consoleHandler\n",
        "qualname=simpleExample\n",
        "propagate=0\n",
        "\n",
        "[handler_consoleHandler]\n",
        "class=StreamHandler\n",
        "level=DEBUG\n",
        "formatter=simpleFormatter\n",
        "args=(sys.stdout,)\n",
        "\n",
        "[formatter_simpleFormatter]\n",
        "format=%(asctime)s - %(name)s - %(levelname)s - %(message)s"
      ],
      "metadata": {
        "colab": {
          "base_uri": "https://localhost:8080/",
          "height": 130
        },
        "id": "HpPzcKN8bEEU",
        "outputId": "fc661f74-f723-4f41-8809-700aa77ff2b8"
      },
      "execution_count": 8,
      "outputs": [
        {
          "output_type": "error",
          "ename": "SyntaxError",
          "evalue": "ignored",
          "traceback": [
            "\u001b[0;36m  File \u001b[0;32m\"<ipython-input-8-ad02edb33de2>\"\u001b[0;36m, line \u001b[0;32m22\u001b[0m\n\u001b[0;31m    class=StreamHandler\u001b[0m\n\u001b[0m         ^\u001b[0m\n\u001b[0;31mSyntaxError\u001b[0m\u001b[0;31m:\u001b[0m invalid syntax\n"
          ]
        }
      ]
    },
    {
      "cell_type": "code",
      "source": [
        "# Then use the config file in the code\n",
        "import logging\n",
        "import logging.config\n",
        "\n",
        "logging.config.fileConfig('logging.conf')\n",
        "\n",
        "# create logger with the name from the config file. \n",
        "# This logger now has StreamHandler with DEBUG Level and the specified format\n",
        "logger = logging.getLogger('simpleExample')\n",
        "\n",
        "logger.debug('debug message')\n",
        "logger.info('info message')"
      ],
      "metadata": {
        "colab": {
          "base_uri": "https://localhost:8080/",
          "height": 380
        },
        "id": "OyYkgdShbTIy",
        "outputId": "86234496-8207-4acb-b7ec-8142b30298bd"
      },
      "execution_count": 9,
      "outputs": [
        {
          "output_type": "error",
          "ename": "KeyError",
          "evalue": "ignored",
          "traceback": [
            "\u001b[0;31m---------------------------------------------------------------------------\u001b[0m",
            "\u001b[0;31mKeyError\u001b[0m                                  Traceback (most recent call last)",
            "\u001b[0;32m<ipython-input-9-16ac13bae536>\u001b[0m in \u001b[0;36m<module>\u001b[0;34m()\u001b[0m\n\u001b[1;32m      3\u001b[0m \u001b[0;32mimport\u001b[0m \u001b[0mlogging\u001b[0m\u001b[0;34m.\u001b[0m\u001b[0mconfig\u001b[0m\u001b[0;34m\u001b[0m\u001b[0;34m\u001b[0m\u001b[0m\n\u001b[1;32m      4\u001b[0m \u001b[0;34m\u001b[0m\u001b[0m\n\u001b[0;32m----> 5\u001b[0;31m \u001b[0mlogging\u001b[0m\u001b[0;34m.\u001b[0m\u001b[0mconfig\u001b[0m\u001b[0;34m.\u001b[0m\u001b[0mfileConfig\u001b[0m\u001b[0;34m(\u001b[0m\u001b[0;34m'logging.conf'\u001b[0m\u001b[0;34m)\u001b[0m\u001b[0;34m\u001b[0m\u001b[0;34m\u001b[0m\u001b[0m\n\u001b[0m\u001b[1;32m      6\u001b[0m \u001b[0;34m\u001b[0m\u001b[0m\n\u001b[1;32m      7\u001b[0m \u001b[0;31m# create logger with the name from the config file.\u001b[0m\u001b[0;34m\u001b[0m\u001b[0;34m\u001b[0m\u001b[0;34m\u001b[0m\u001b[0m\n",
            "\u001b[0;32m/usr/lib/python3.7/logging/config.py\u001b[0m in \u001b[0;36mfileConfig\u001b[0;34m(fname, defaults, disable_existing_loggers)\u001b[0m\n\u001b[1;32m     69\u001b[0m             \u001b[0mcp\u001b[0m\u001b[0;34m.\u001b[0m\u001b[0mread\u001b[0m\u001b[0;34m(\u001b[0m\u001b[0mfname\u001b[0m\u001b[0;34m)\u001b[0m\u001b[0;34m\u001b[0m\u001b[0;34m\u001b[0m\u001b[0m\n\u001b[1;32m     70\u001b[0m \u001b[0;34m\u001b[0m\u001b[0m\n\u001b[0;32m---> 71\u001b[0;31m     \u001b[0mformatters\u001b[0m \u001b[0;34m=\u001b[0m \u001b[0m_create_formatters\u001b[0m\u001b[0;34m(\u001b[0m\u001b[0mcp\u001b[0m\u001b[0;34m)\u001b[0m\u001b[0;34m\u001b[0m\u001b[0;34m\u001b[0m\u001b[0m\n\u001b[0m\u001b[1;32m     72\u001b[0m \u001b[0;34m\u001b[0m\u001b[0m\n\u001b[1;32m     73\u001b[0m     \u001b[0;31m# critical section\u001b[0m\u001b[0;34m\u001b[0m\u001b[0;34m\u001b[0m\u001b[0;34m\u001b[0m\u001b[0m\n",
            "\u001b[0;32m/usr/lib/python3.7/logging/config.py\u001b[0m in \u001b[0;36m_create_formatters\u001b[0;34m(cp)\u001b[0m\n\u001b[1;32m    102\u001b[0m \u001b[0;32mdef\u001b[0m \u001b[0m_create_formatters\u001b[0m\u001b[0;34m(\u001b[0m\u001b[0mcp\u001b[0m\u001b[0;34m)\u001b[0m\u001b[0;34m:\u001b[0m\u001b[0;34m\u001b[0m\u001b[0;34m\u001b[0m\u001b[0m\n\u001b[1;32m    103\u001b[0m     \u001b[0;34m\"\"\"Create and return formatters\"\"\"\u001b[0m\u001b[0;34m\u001b[0m\u001b[0;34m\u001b[0m\u001b[0m\n\u001b[0;32m--> 104\u001b[0;31m     \u001b[0mflist\u001b[0m \u001b[0;34m=\u001b[0m \u001b[0mcp\u001b[0m\u001b[0;34m[\u001b[0m\u001b[0;34m\"formatters\"\u001b[0m\u001b[0;34m]\u001b[0m\u001b[0;34m[\u001b[0m\u001b[0;34m\"keys\"\u001b[0m\u001b[0;34m]\u001b[0m\u001b[0;34m\u001b[0m\u001b[0;34m\u001b[0m\u001b[0m\n\u001b[0m\u001b[1;32m    105\u001b[0m     \u001b[0;32mif\u001b[0m \u001b[0;32mnot\u001b[0m \u001b[0mlen\u001b[0m\u001b[0;34m(\u001b[0m\u001b[0mflist\u001b[0m\u001b[0;34m)\u001b[0m\u001b[0;34m:\u001b[0m\u001b[0;34m\u001b[0m\u001b[0;34m\u001b[0m\u001b[0m\n\u001b[1;32m    106\u001b[0m         \u001b[0;32mreturn\u001b[0m \u001b[0;34m{\u001b[0m\u001b[0;34m}\u001b[0m\u001b[0;34m\u001b[0m\u001b[0;34m\u001b[0m\u001b[0m\n",
            "\u001b[0;32m/usr/lib/python3.7/configparser.py\u001b[0m in \u001b[0;36m__getitem__\u001b[0;34m(self, key)\u001b[0m\n\u001b[1;32m    956\u001b[0m     \u001b[0;32mdef\u001b[0m \u001b[0m__getitem__\u001b[0m\u001b[0;34m(\u001b[0m\u001b[0mself\u001b[0m\u001b[0;34m,\u001b[0m \u001b[0mkey\u001b[0m\u001b[0;34m)\u001b[0m\u001b[0;34m:\u001b[0m\u001b[0;34m\u001b[0m\u001b[0;34m\u001b[0m\u001b[0m\n\u001b[1;32m    957\u001b[0m         \u001b[0;32mif\u001b[0m \u001b[0mkey\u001b[0m \u001b[0;34m!=\u001b[0m \u001b[0mself\u001b[0m\u001b[0;34m.\u001b[0m\u001b[0mdefault_section\u001b[0m \u001b[0;32mand\u001b[0m \u001b[0;32mnot\u001b[0m \u001b[0mself\u001b[0m\u001b[0;34m.\u001b[0m\u001b[0mhas_section\u001b[0m\u001b[0;34m(\u001b[0m\u001b[0mkey\u001b[0m\u001b[0;34m)\u001b[0m\u001b[0;34m:\u001b[0m\u001b[0;34m\u001b[0m\u001b[0;34m\u001b[0m\u001b[0m\n\u001b[0;32m--> 958\u001b[0;31m             \u001b[0;32mraise\u001b[0m \u001b[0mKeyError\u001b[0m\u001b[0;34m(\u001b[0m\u001b[0mkey\u001b[0m\u001b[0;34m)\u001b[0m\u001b[0;34m\u001b[0m\u001b[0;34m\u001b[0m\u001b[0m\n\u001b[0m\u001b[1;32m    959\u001b[0m         \u001b[0;32mreturn\u001b[0m \u001b[0mself\u001b[0m\u001b[0;34m.\u001b[0m\u001b[0m_proxies\u001b[0m\u001b[0;34m[\u001b[0m\u001b[0mkey\u001b[0m\u001b[0;34m]\u001b[0m\u001b[0;34m\u001b[0m\u001b[0;34m\u001b[0m\u001b[0m\n\u001b[1;32m    960\u001b[0m \u001b[0;34m\u001b[0m\u001b[0m\n",
            "\u001b[0;31mKeyError\u001b[0m: 'formatters'"
          ]
        }
      ]
    },
    {
      "cell_type": "markdown",
      "source": [
        "**Capture Stack traces**\n",
        "\n",
        "Logging the traceback in your exception logs can be very helpful for troubleshooting issues. You can capture the traceback in logging.error() by setting the excinfo* parameter to True."
      ],
      "metadata": {
        "id": "otwkSelJbaxv"
      }
    },
    {
      "cell_type": "code",
      "source": [
        "import logging\n",
        "\n",
        "try:\n",
        "    a = [1, 2, 3]\n",
        "    value = a[3]\n",
        "except IndexError as e:\n",
        "    logging.error(e)\n",
        "    logging.error(e, exc_info=True)"
      ],
      "metadata": {
        "colab": {
          "base_uri": "https://localhost:8080/"
        },
        "id": "sP29cpHEbWdT",
        "outputId": "f4c0b438-5ef9-4a7e-a718-4ec9f16db8cb"
      },
      "execution_count": 10,
      "outputs": [
        {
          "output_type": "stream",
          "name": "stderr",
          "text": [
            "ERROR:root:list index out of range\n",
            "ERROR:root:list index out of range\n",
            "Traceback (most recent call last):\n",
            "  File \"<ipython-input-10-df97a133cbe6>\", line 5, in <module>\n",
            "    value = a[3]\n",
            "IndexError: list index out of range\n"
          ]
        }
      ]
    },
    {
      "cell_type": "markdown",
      "source": [
        "If you don't capture the correct Exception, you can also use the traceback.formatexc()* method to log the exception."
      ],
      "metadata": {
        "id": "bXYTL9oFbl0G"
      }
    },
    {
      "cell_type": "code",
      "source": [
        "import logging\n",
        "import traceback\n",
        "\n",
        "try:\n",
        "    a = [1, 2, 3]\n",
        "    value = a[3]\n",
        "except:\n",
        "    logging.error(\"uncaught exception: %s\", traceback.format_exc())"
      ],
      "metadata": {
        "colab": {
          "base_uri": "https://localhost:8080/"
        },
        "id": "8nytfQN4bgi1",
        "outputId": "da318f4d-554a-41cf-8e84-a564739e0d12"
      },
      "execution_count": 11,
      "outputs": [
        {
          "output_type": "stream",
          "name": "stderr",
          "text": [
            "ERROR:root:uncaught exception: Traceback (most recent call last):\n",
            "  File \"<ipython-input-11-0c2f1bb90728>\", line 6, in <module>\n",
            "    value = a[3]\n",
            "IndexError: list index out of range\n",
            "\n"
          ]
        }
      ]
    },
    {
      "cell_type": "markdown",
      "source": [
        "**Rotating FileHandler**\n",
        "\n",
        "When you have a large application that logs many events to a file, and you only need to keep track of the most recent events, then use a RotatingFileHandler that keeps the files small. When the log reaches a certain number of bytes, it gets \"rolled over\". You can also keep multiple backup log files before overwriting them."
      ],
      "metadata": {
        "id": "IuC_3uInbrN-"
      }
    },
    {
      "cell_type": "code",
      "source": [
        "import logging\n",
        "from logging.handlers import RotatingFileHandler\n",
        "\n",
        "logger = logging.getLogger(__name__)\n",
        "logger.setLevel(logging.INFO)\n",
        "\n",
        "# roll over after 2KB, and keep backup logs app.log.1, app.log.2 , etc.\n",
        "handler = RotatingFileHandler('app.log', maxBytes=2000, backupCount=5)\n",
        "logger.addHandler(handler)\n",
        "\n",
        "for _ in range(10000):\n",
        "    logger.info('Hello, world!')"
      ],
      "metadata": {
        "id": "Q5_ljoQBbpCz"
      },
      "execution_count": 12,
      "outputs": []
    },
    {
      "cell_type": "markdown",
      "source": [
        "**TimedRotatingFileHandler**\n",
        "\n",
        "If your application will be running for a long time, you can use a TimedRotatingFileHandler. This will create a rotating log based on how much time has passed. Possible time conditions for the when parameter are: - second (s) - minute (m) - hour (h) - day (d) - w0-w6 (weekday, 0=Monday) - midnight"
      ],
      "metadata": {
        "id": "5AQrxxrlbzbp"
      }
    },
    {
      "cell_type": "code",
      "source": [
        "import logging\n",
        "import time\n",
        "from logging.handlers import TimedRotatingFileHandler\n",
        " \n",
        "logger = logging.getLogger(__name__)\n",
        "logger.setLevel(logging.INFO)\n",
        "\n",
        "# This will create a new log file every minute, and 5 backup files with a timestamp before overwriting old logs.\n",
        "handler = TimedRotatingFileHandler('timed_test.log', when='m', interval=1, backupCount=5)\n",
        "logger.addHandler(handler)\n",
        " \n",
        "for i in range(6):\n",
        "    logger.info('Hello, world!')\n",
        "    time.sleep(50)"
      ],
      "metadata": {
        "colab": {
          "base_uri": "https://localhost:8080/",
          "height": 200
        },
        "id": "4w-1131UbxjW",
        "outputId": "571a6004-4111-4361-cbd5-702f4441f2d9"
      },
      "execution_count": 13,
      "outputs": [
        {
          "output_type": "error",
          "ename": "KeyboardInterrupt",
          "evalue": "ignored",
          "traceback": [
            "\u001b[0;31m---------------------------------------------------------------------------\u001b[0m",
            "\u001b[0;31mKeyboardInterrupt\u001b[0m                         Traceback (most recent call last)",
            "\u001b[0;32m<ipython-input-13-4b05ddb941ae>\u001b[0m in \u001b[0;36m<module>\u001b[0;34m()\u001b[0m\n\u001b[1;32m     12\u001b[0m \u001b[0;32mfor\u001b[0m \u001b[0mi\u001b[0m \u001b[0;32min\u001b[0m \u001b[0mrange\u001b[0m\u001b[0;34m(\u001b[0m\u001b[0;36m6\u001b[0m\u001b[0;34m)\u001b[0m\u001b[0;34m:\u001b[0m\u001b[0;34m\u001b[0m\u001b[0;34m\u001b[0m\u001b[0m\n\u001b[1;32m     13\u001b[0m     \u001b[0mlogger\u001b[0m\u001b[0;34m.\u001b[0m\u001b[0minfo\u001b[0m\u001b[0;34m(\u001b[0m\u001b[0;34m'Hello, world!'\u001b[0m\u001b[0;34m)\u001b[0m\u001b[0;34m\u001b[0m\u001b[0;34m\u001b[0m\u001b[0m\n\u001b[0;32m---> 14\u001b[0;31m     \u001b[0mtime\u001b[0m\u001b[0;34m.\u001b[0m\u001b[0msleep\u001b[0m\u001b[0;34m(\u001b[0m\u001b[0;36m50\u001b[0m\u001b[0;34m)\u001b[0m\u001b[0;34m\u001b[0m\u001b[0;34m\u001b[0m\u001b[0m\n\u001b[0m",
            "\u001b[0;31mKeyboardInterrupt\u001b[0m: "
          ]
        }
      ]
    },
    {
      "cell_type": "markdown",
      "source": [
        "**Logging in JSON Format**\n",
        "\n",
        "If your application generates many logs from different modules, and especially in a microservice architecture, it can be challenging to locate the important logs for your analysis. Therefore, it is best practice to log your messages in JSON format, and send them to a centralized log management system. Then you can easily search, visualize, and analyze your log records.\n",
        "I would recommend using this Open Source JSON logger: https://github.com/madzak/python-json-logger\n",
        "\n",
        "pip install python-json-logger"
      ],
      "metadata": {
        "id": "DUNyE7ZDb-lV"
      }
    },
    {
      "cell_type": "code",
      "source": [
        "import logging\n",
        "from pythonjsonlogger import jsonlogger\n",
        "\n",
        "logger = logging.getLogger()\n",
        "\n",
        "logHandler = logging.StreamHandler()\n",
        "formatter = jsonlogger.JsonFormatter()\n",
        "logHandler.setFormatter(formatter)\n",
        "logger.addHandler(logHandler)"
      ],
      "metadata": {
        "id": "MCQa_xWtb5Ey"
      },
      "execution_count": null,
      "outputs": []
    }
  ]
}