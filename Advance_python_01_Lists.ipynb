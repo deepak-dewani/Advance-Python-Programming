{
  "nbformat": 4,
  "nbformat_minor": 0,
  "metadata": {
    "colab": {
      "name": "Advance - python- 01_Lists.ipynb",
      "provenance": [],
      "collapsed_sections": [],
      "authorship_tag": "ABX9TyOUsAG+evqVEe/MbJ3MSQ0j",
      "include_colab_link": true
    },
    "kernelspec": {
      "name": "python3",
      "display_name": "Python 3"
    },
    "language_info": {
      "name": "python"
    }
  },
  "cells": [
    {
      "cell_type": "markdown",
      "metadata": {
        "id": "view-in-github",
        "colab_type": "text"
      },
      "source": [
        "<a href=\"https://colab.research.google.com/github/deepak-dewani/Advance-Python-Programming/blob/main/Advance_python_01_Lists.ipynb\" target=\"_parent\"><img src=\"https://colab.research.google.com/assets/colab-badge.svg\" alt=\"Open In Colab\"/></a>"
      ]
    },
    {
      "cell_type": "markdown",
      "source": [
        "**Chapter - Advance Python**\n",
        "\n",
        "**Name - Lists**\n",
        "\n",
        "**Descriptions - Use of all commands** "
      ],
      "metadata": {
        "id": "lvX3kVQfR9FL"
      }
    },
    {
      "cell_type": "code",
      "execution_count": 1,
      "metadata": {
        "colab": {
          "base_uri": "https://localhost:8080/"
        },
        "id": "TQgoT5oKRngE",
        "outputId": "84e282a6-3850-4258-c529-052f47030c1f"
      },
      "outputs": [
        {
          "output_type": "stream",
          "name": "stdout",
          "text": [
            "<class 'list'>\n",
            "[]\n",
            "[]\n"
          ]
        }
      ],
      "source": [
        "# Empty list\n",
        "#  Lists are mutable, ordered, and allows duplicate elements\n",
        "mylist = []\n",
        "my_list = list()\n",
        "print(type(mylist))\n",
        "print(mylist)\n",
        "print(my_list)"
      ]
    },
    {
      "cell_type": "code",
      "source": [
        "# making new list with manual entry\n",
        "mylist = [\"banana\", \"mango\",\"cheery\", \"apple\", \"blueberry\"]\n",
        "\n",
        "\n",
        "# allow various datatypes  \n",
        "mylist2 = [5, \"Jim\", False, 5.050]\n",
        "\n",
        "# allows duplicate elements\n",
        "\n",
        "mylist3 = [5, \"jim\", False, 5.05, 5, \"jim\", False, 5.05]\n",
        "\n",
        "print(mylist)\n",
        "print(mylist2)\n",
        "print(mylist3)"
      ],
      "metadata": {
        "colab": {
          "base_uri": "https://localhost:8080/"
        },
        "id": "2fHPxCaoR7xF",
        "outputId": "47919f61-97df-4afd-ae80-58d98e4e847e"
      },
      "execution_count": null,
      "outputs": [
        {
          "output_type": "stream",
          "name": "stdout",
          "text": [
            "['banana', 'mango', 'cheery', 'apple', 'blueberry']\n",
            "[5, 'Jim', False, 5.05]\n",
            "[5, 'jim', False, 5.05, 5, 'jim', False, 5.05]\n"
          ]
        }
      ]
    },
    {
      "cell_type": "code",
      "source": [
        "# Indexing of list\n",
        "print(mylist3)\n",
        "\n",
        "print(mylist3[0])\n",
        "print(mylist3[2])\n",
        "print(mylist3[1])\n",
        "print(mylist3[3])\n",
        "print(mylist3[4])\n",
        "print(mylist3[5])\n",
        "print(mylist3[6])\n",
        "print(mylist3[7],\"\\n\")\n",
        "\n",
        "\n",
        "#  reverse indexing of list\n",
        "print(mylist3[-1])\n",
        "print(mylist3[-2])\n",
        "print(mylist3[-3])\n",
        "print(mylist3[-4])\n",
        "print(mylist3[-5])\n",
        "print(mylist3[-6])\n",
        "print(mylist3[-7])\n",
        "print(mylist3[-8])\n"
      ],
      "metadata": {
        "colab": {
          "base_uri": "https://localhost:8080/"
        },
        "id": "ayW6uD2fUecp",
        "outputId": "5c854089-0ba0-4123-c3a1-0a983f008807"
      },
      "execution_count": null,
      "outputs": [
        {
          "output_type": "stream",
          "name": "stdout",
          "text": [
            "[5, 'jim', False, 5.05, 5, 'jim', False, 5.05]\n",
            "5\n",
            "False\n",
            "jim\n",
            "5.05\n",
            "5\n",
            "jim\n",
            "False\n",
            "5.05 \n",
            "\n",
            "5.05\n",
            "False\n",
            "jim\n",
            "5\n",
            "5.05\n",
            "False\n",
            "jim\n",
            "5\n"
          ]
        }
      ]
    },
    {
      "cell_type": "code",
      "source": [
        "# Clear command \n",
        "mylist3 = [5, \"jim\", False, 5.05, 5, \"jim\", False, 5.05]\n",
        "\n",
        "item = mylist3.clear()\n",
        "print(mylist3)\n",
        "\n",
        "print(item)"
      ],
      "metadata": {
        "colab": {
          "base_uri": "https://localhost:8080/"
        },
        "id": "A_eDf0Lb9Fi0",
        "outputId": "557feb78-7449-4ee9-f6b3-f4afeb731204"
      },
      "execution_count": null,
      "outputs": [
        {
          "output_type": "stream",
          "name": "stdout",
          "text": [
            "[]\n",
            "None\n"
          ]
        }
      ]
    },
    {
      "cell_type": "code",
      "source": [
        "# Copy command\n",
        "\n",
        "mylist3 = [5, \"jim\", False, 5.05, 5, \"jim\", False, 5.05]\n",
        "\n",
        "# my_list1 = mylist3.copy()\n",
        "\n",
        "print(mylist3)\n",
        "#  Count Command\n",
        "mylist3.count(\"jim\")\n",
        "mylist3.count(5)\n",
        "# length commands\n",
        "\n",
        "print(len(mylist3))\n",
        "\n",
        "# mylist3.append(\"Lemon\")\n",
        "# print(mylist3)\n",
        "\n",
        "mylist3.insert(1, \"banana\")\n",
        "print(mylist3)\n",
        "\n",
        "mylist3.pop()\n",
        "print(mylist3)\n",
        "\n",
        "mylist3.reverse()\n",
        "print(mylist3)\n"
      ],
      "metadata": {
        "colab": {
          "base_uri": "https://localhost:8080/"
        },
        "id": "FvROCD17ApLg",
        "outputId": "c5526084-e51e-45b2-e6c4-b308f1f226cc"
      },
      "execution_count": null,
      "outputs": [
        {
          "output_type": "stream",
          "name": "stdout",
          "text": [
            "[5, 'jim', False, 5.05, 5, 'jim', False, 5.05]\n",
            "8\n",
            "[5, 'banana', 'jim', False, 5.05, 5, 'jim', False, 5.05]\n",
            "[5, 'banana', 'jim', False, 5.05, 5, 'jim', False]\n",
            "[False, 'jim', 5, 5.05, False, 'jim', 'banana', 5]\n"
          ]
        }
      ]
    },
    {
      "cell_type": "code",
      "source": [
        "# Concat and Multiply the list\n",
        "mylist = [0]*5\n",
        "mylist1 = [1,2,3,4,5]\n",
        "\n",
        "new_list = mylist + mylist1\n",
        "print(new_list)"
      ],
      "metadata": {
        "colab": {
          "base_uri": "https://localhost:8080/"
        },
        "id": "kHgDzH7AFj-a",
        "outputId": "6a33c425-ea70-4293-f601-7ef67fef1a45"
      },
      "execution_count": null,
      "outputs": [
        {
          "output_type": "stream",
          "name": "stdout",
          "text": [
            "[0, 0, 0, 0, 0, 1, 2, 3, 4, 5]\n"
          ]
        }
      ]
    },
    {
      "cell_type": "code",
      "source": [
        "# Slicing\n",
        "\n",
        "print(new_list)\n",
        "\n",
        "print(new_list[:])\n",
        "print(new_list[-8:-1])\n",
        "print(new_list[0::2])\n",
        "\n",
        "\n"
      ],
      "metadata": {
        "colab": {
          "base_uri": "https://localhost:8080/"
        },
        "id": "cvpiIOvTGM2n",
        "outputId": "0bb51c30-fdf4-46b8-9be5-458be18ba80f"
      },
      "execution_count": null,
      "outputs": [
        {
          "output_type": "stream",
          "name": "stdout",
          "text": [
            "[0, 0, 0, 0, 0, 1, 2, 3, 4, 5]\n",
            "[0, 0, 0, 0, 0, 1, 2, 3, 4, 5]\n",
            "[0, 0, 0, 1, 2, 3, 4]\n",
            "[0, 0, 0, 2, 4]\n"
          ]
        }
      ]
    },
    {
      "cell_type": "code",
      "source": [
        "# Copy Command \n",
        "new_list1 = new_list\n",
        "\n",
        "new_list1.append(\"5\")\n",
        "\n",
        "print(new_list1)\n",
        "print(new_list)"
      ],
      "metadata": {
        "colab": {
          "base_uri": "https://localhost:8080/"
        },
        "id": "MvTeAkrlHWee",
        "outputId": "e3ceb6cd-0383-424c-cb69-a6b0af7bb6cf"
      },
      "execution_count": null,
      "outputs": [
        {
          "output_type": "stream",
          "name": "stdout",
          "text": [
            "[0, 0, 0, 0, 0, 1, 2, 3, 4, 5, '5', '5']\n",
            "[0, 0, 0, 0, 0, 1, 2, 3, 4, 5, '5', '5']\n"
          ]
        }
      ]
    },
    {
      "cell_type": "code",
      "source": [
        "# Copy Command \n",
        "new_list1 = list(new_list)\n",
        "new_list1.insert(1, 1)\n",
        "\n",
        "\n",
        "print(new_list1)\n",
        "print(new_list)"
      ],
      "metadata": {
        "colab": {
          "base_uri": "https://localhost:8080/"
        },
        "id": "YBJp1TrnH__U",
        "outputId": "81a324ce-87d8-4592-9cc1-2e6e84586f30"
      },
      "execution_count": null,
      "outputs": [
        {
          "output_type": "stream",
          "name": "stdout",
          "text": [
            "[0, 1, 0, 0, 0, 0, 1, 2, 3, 4, 5, '5', '5']\n",
            "[0, 0, 0, 0, 0, 1, 2, 3, 4, 5, '5', '5']\n"
          ]
        }
      ]
    },
    {
      "cell_type": "code",
      "source": [
        "# Copy Command \n",
        "\n",
        "new_list1 = new_list[:]\n",
        "\n",
        "print(new_list1)\n",
        "print(new_list)\n",
        "#  Sort Command\n",
        "new_list2 = [0,5,6,8,1,5,-5,-6]\n",
        "new_list2.sort()\n",
        "print(new_list2)"
      ],
      "metadata": {
        "colab": {
          "base_uri": "https://localhost:8080/"
        },
        "id": "4UqnCwITIZ6F",
        "outputId": "701b044d-c860-4dfe-b18b-df3a2c362a13"
      },
      "execution_count": null,
      "outputs": [
        {
          "output_type": "stream",
          "name": "stdout",
          "text": [
            "[0, 0, 0, 0, 0, 1, 2, 3, 4, 5, '5', '5']\n",
            "[0, 0, 0, 0, 0, 1, 2, 3, 4, 5, '5', '5']\n",
            "[-6, -5, 0, 1, 5, 5, 6, 8]\n"
          ]
        }
      ]
    },
    {
      "cell_type": "code",
      "source": [
        "# List comprehension\n",
        "\n",
        "lst = [0,1,2,3,4,5,6,7,8,9]\n",
        "lst1 = [x*x for x in lst]\n",
        "lst2 = [i*i for i in lst if i%2==0]\n",
        "\n",
        "print(lst)\n",
        "print(lst1)\n",
        "print(lst2)"
      ],
      "metadata": {
        "colab": {
          "base_uri": "https://localhost:8080/"
        },
        "id": "mRL3P7k6IwiK",
        "outputId": "bde5d51c-7e0c-49c9-cbcf-85c9018d9cb2"
      },
      "execution_count": null,
      "outputs": [
        {
          "output_type": "stream",
          "name": "stdout",
          "text": [
            "[0, 1, 2, 3, 4, 5, 6, 7, 8, 9]\n",
            "[0, 1, 4, 9, 16, 25, 36, 49, 64, 81]\n",
            "[0, 4, 16, 36, 64]\n"
          ]
        }
      ]
    },
    {
      "cell_type": "code",
      "source": [
        "dir(mylist)"
      ],
      "metadata": {
        "colab": {
          "base_uri": "https://localhost:8080/"
        },
        "id": "pvvcE0TGRwIb",
        "outputId": "3dd493b2-4b8b-42da-839d-d3db23afb9fb"
      },
      "execution_count": null,
      "outputs": [
        {
          "output_type": "execute_result",
          "data": {
            "text/plain": [
              "['__add__',\n",
              " '__class__',\n",
              " '__contains__',\n",
              " '__delattr__',\n",
              " '__delitem__',\n",
              " '__dir__',\n",
              " '__doc__',\n",
              " '__eq__',\n",
              " '__format__',\n",
              " '__ge__',\n",
              " '__getattribute__',\n",
              " '__getitem__',\n",
              " '__gt__',\n",
              " '__hash__',\n",
              " '__iadd__',\n",
              " '__imul__',\n",
              " '__init__',\n",
              " '__init_subclass__',\n",
              " '__iter__',\n",
              " '__le__',\n",
              " '__len__',\n",
              " '__lt__',\n",
              " '__mul__',\n",
              " '__ne__',\n",
              " '__new__',\n",
              " '__reduce__',\n",
              " '__reduce_ex__',\n",
              " '__repr__',\n",
              " '__reversed__',\n",
              " '__rmul__',\n",
              " '__setattr__',\n",
              " '__setitem__',\n",
              " '__sizeof__',\n",
              " '__str__',\n",
              " '__subclasshook__',\n",
              " 'append',\n",
              " 'clear',\n",
              " 'copy',\n",
              " 'count',\n",
              " 'extend',\n",
              " 'index',\n",
              " 'insert',\n",
              " 'pop',\n",
              " 'remove',\n",
              " 'reverse',\n",
              " 'sort']"
            ]
          },
          "metadata": {},
          "execution_count": 70
        }
      ]
    },
    {
      "cell_type": "code",
      "source": [
        ""
      ],
      "metadata": {
        "id": "zGrfwU01R5In"
      },
      "execution_count": null,
      "outputs": []
    }
  ]
}