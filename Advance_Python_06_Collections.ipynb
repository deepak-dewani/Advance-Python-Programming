{
  "nbformat": 4,
  "nbformat_minor": 0,
  "metadata": {
    "colab": {
      "name": "Advance_Python_06_Collections.ipynb",
      "provenance": [],
      "collapsed_sections": [
        "DVlYcbH9-pJ_",
        "2EAr7f_LBkT-",
        "41cXZdFHH13D"
      ],
      "authorship_tag": "ABX9TyOlPwxsDwHOs3gT6EnsJ4II",
      "include_colab_link": true
    },
    "kernelspec": {
      "name": "python3",
      "display_name": "Python 3"
    },
    "language_info": {
      "name": "python"
    }
  },
  "cells": [
    {
      "cell_type": "markdown",
      "metadata": {
        "id": "view-in-github",
        "colab_type": "text"
      },
      "source": [
        "<a href=\"https://colab.research.google.com/github/deepak-dewani/Advance-Python-Programming/blob/main/Advance_Python_06_Collections.ipynb\" target=\"_parent\"><img src=\"https://colab.research.google.com/assets/colab-badge.svg\" alt=\"Open In Colab\"/></a>"
      ]
    },
    {
      "cell_type": "markdown",
      "source": [
        "# **Chapter - Advance Python**\n",
        "\n",
        "**Name - Collections**\n",
        "\n",
        "**Description - Use of commands**"
      ],
      "metadata": {
        "id": "DVlYcbH9-pJ_"
      }
    },
    {
      "cell_type": "markdown",
      "source": [
        "**Collections** - The collection Module in Python provides different types of containers. A Container is an object that is used to store different objects and provide a way to access the contained objects and iterate over them. Some of the built-in containers are Tuple, List, Dictionary. Here we will use Counters, OrderedDict, DefaultDict, NamedTuple, DeQue."
      ],
      "metadata": {
        "id": "kbXHt1T6-5kz"
      }
    },
    {
      "cell_type": "markdown",
      "source": [
        "We need to import the containers from the collection library by using\n",
        "\n",
        "**from collections** **import** **container name**"
      ],
      "metadata": {
        "id": "qME91VSUArI7"
      }
    },
    {
      "cell_type": "markdown",
      "source": [
        "# **Counters**\n",
        "A counter is a sub-class of the dictionary. It is used to keep the count of the elements in an iterable in the form of an unordered dictionary where the key represents the element in the iterable and value represents the count of that element in the iterable."
      ],
      "metadata": {
        "id": "2EAr7f_LBkT-"
      }
    },
    {
      "cell_type": "code",
      "source": [
        "from collections import Counter\n",
        "\n",
        "a = \"aaaaabbbccccdddee\"\n",
        "# Counter will give the dictonaries in the form of key/value pairs\n",
        "mycounter = Counter(a)\n",
        "print(mycounter)"
      ],
      "metadata": {
        "colab": {
          "base_uri": "https://localhost:8080/"
        },
        "id": "PN1uINJcBi6y",
        "outputId": "f6b129d2-b214-420b-d8bd-5befb713236b"
      },
      "execution_count": 4,
      "outputs": [
        {
          "output_type": "stream",
          "name": "stdout",
          "text": [
            "Counter({'a': 5, 'c': 4, 'b': 3, 'd': 3, 'e': 2})\n"
          ]
        }
      ]
    },
    {
      "cell_type": "markdown",
      "source": [
        "**Accessing the items, keys and values from counter**"
      ],
      "metadata": {
        "id": "HPoW9iNnCrwJ"
      }
    },
    {
      "cell_type": "code",
      "execution_count": 10,
      "metadata": {
        "id": "QVTviry4PaVi",
        "colab": {
          "base_uri": "https://localhost:8080/"
        },
        "outputId": "4cbffa25-f3a0-4f1d-90e1-01eabf571884"
      },
      "outputs": [
        {
          "output_type": "stream",
          "name": "stdout",
          "text": [
            "Counter({'a': 5, 'c': 4, 'b': 3, 'd': 3, 'e': 2})\n",
            "dict_items([('a', 5), ('b', 3), ('c', 4), ('d', 3), ('e', 2)]) \n",
            "\n",
            "dict_keys(['a', 'b', 'c', 'd', 'e']) \n",
            "\n",
            "dict_values([5, 3, 4, 3, 2])\n"
          ]
        }
      ],
      "source": [
        "# Use of items, keys and value command\n",
        "print(mycounter)\n",
        "\n",
        "# Items\n",
        "print(mycounter.items(), \"\\n\")\n",
        "\n",
        "# Keys\n",
        "print(mycounter.keys(), \"\\n\")\n",
        "\n",
        "# Values\n",
        "print(mycounter.values())\n"
      ]
    },
    {
      "cell_type": "markdown",
      "source": [
        "**Use of most common command**"
      ],
      "metadata": {
        "id": "CU4KiDv9DhnS"
      }
    },
    {
      "cell_type": "code",
      "source": [
        "# Use of most_common Command \n",
        "print(mycounter, \"\\n\")\n",
        "\n",
        "print(mycounter.most_common())              # This will show all the items\n",
        "print(mycounter.most_common(1))             # This will show one common items\n",
        "print(mycounter.most_common(2))             # This will show two common items\n",
        "print(mycounter.most_common(3), \"\\n\")             # This will show three common items  \n",
        "\n",
        "# \"\"\"This will give us the lists of tuples,if we want to access to the each element we can do so\"\"\"\n",
        "\n",
        "print(mycounter.most_common(1)[0][0])\n",
        "print(mycounter.most_common(3)[1][0])\n",
        "print(mycounter.most_common(5)[3][1]) \n"
      ],
      "metadata": {
        "colab": {
          "base_uri": "https://localhost:8080/"
        },
        "id": "NPgV67G_C1HB",
        "outputId": "cd9628d4-bba2-422d-b885-5a90cd03f00f"
      },
      "execution_count": 33,
      "outputs": [
        {
          "output_type": "stream",
          "name": "stdout",
          "text": [
            "Counter({'a': 5, 'c': 4, 'b': 3, 'd': 3, 'e': 2}) \n",
            "\n",
            "[('a', 5), ('c', 4), ('b', 3), ('d', 3), ('e', 2)]\n",
            "[('a', 5)]\n",
            "[('a', 5), ('c', 4)]\n",
            "[('a', 5), ('c', 4), ('b', 3)] \n",
            "\n",
            "a\n",
            "c\n",
            "3\n"
          ]
        }
      ]
    },
    {
      "cell_type": "markdown",
      "source": [
        "**Counter into List**"
      ],
      "metadata": {
        "id": "072SLQhWHMkY"
      }
    },
    {
      "cell_type": "code",
      "source": [
        "# Counter into list\n",
        "print(mycounter, \"\\n\")\n",
        "\n",
        "print(mycounter.elements(), \"\\n\")              # This will give the iterator stored in the memory location. In order to print the list, we can change it to list.\n",
        "print(list(mycounter.elements()))   "
      ],
      "metadata": {
        "colab": {
          "base_uri": "https://localhost:8080/"
        },
        "id": "KGuDxSN-Dguv",
        "outputId": "80a776ca-78e6-4335-a920-acdae6d0eae4"
      },
      "execution_count": 38,
      "outputs": [
        {
          "output_type": "stream",
          "name": "stdout",
          "text": [
            "Counter({'a': 5, 'c': 4, 'b': 3, 'd': 3, 'e': 2}) \n",
            "\n",
            "<itertools.chain object at 0x7f6958e99cd0> \n",
            "\n",
            "['a', 'a', 'a', 'a', 'a', 'b', 'b', 'b', 'c', 'c', 'c', 'c', 'd', 'd', 'd', 'e', 'e']\n"
          ]
        }
      ]
    },
    {
      "cell_type": "markdown",
      "source": [
        "# **NamedTuple**\n",
        "A NamedTuple returns a tuple object with names for each position which the ordinary tuples lack. For example, consider a tuple names student where the first element represents fname, second represents lname and the third element represents the DOB. Suppose for calling fname instead of remembering the index position you can actually call the element by using the fname argument, then it will be really easy for accessing tuples element. This functionality is provided by the NamedTuple."
      ],
      "metadata": {
        "id": "41cXZdFHH13D"
      }
    },
    {
      "cell_type": "code",
      "source": [
        ""
      ],
      "metadata": {
        "id": "ZDVuqXh6HwXU"
      },
      "execution_count": null,
      "outputs": []
    }
  ]
}