{
  "nbformat": 4,
  "nbformat_minor": 0,
  "metadata": {
    "colab": {
      "name": "Advance_Python_02_Tuples.ipynb",
      "provenance": [],
      "collapsed_sections": [],
      "authorship_tag": "ABX9TyOIAHRa/l+6y6akpRJGx9zG",
      "include_colab_link": true
    },
    "kernelspec": {
      "name": "python3",
      "display_name": "Python 3"
    },
    "language_info": {
      "name": "python"
    }
  },
  "cells": [
    {
      "cell_type": "markdown",
      "metadata": {
        "id": "view-in-github",
        "colab_type": "text"
      },
      "source": [
        "<a href=\"https://colab.research.google.com/github/deepak-dewani/Advance-Python-Programming/blob/main/Advance_Python_02_Tuples.ipynb\" target=\"_parent\"><img src=\"https://colab.research.google.com/assets/colab-badge.svg\" alt=\"Open In Colab\"/></a>"
      ]
    },
    {
      "cell_type": "code",
      "execution_count": 3,
      "metadata": {
        "id": "gQwOWqVgGvQd",
        "colab": {
          "base_uri": "https://localhost:8080/"
        },
        "outputId": "a98cef16-beb4-4b6d-c814-61faed71b1c0"
      },
      "outputs": [
        {
          "output_type": "stream",
          "name": "stdout",
          "text": [
            "()\n"
          ]
        },
        {
          "output_type": "execute_result",
          "data": {
            "text/plain": [
              "tuple"
            ]
          },
          "metadata": {},
          "execution_count": 3
        }
      ],
      "source": [
        "# Tuples are immutuable, ordered and allow duplicate element\n",
        "#  Empty Tuple\n",
        "mytuple = ()\n",
        "print(mytuple)\n",
        "type(mytuple)\n",
        "\n"
      ]
    },
    {
      "cell_type": "code",
      "source": [
        "#  Making Tuple with manaul entry\n",
        "mytuple = (\"Maxx\", 5 , 10.5, True)\n",
        "print(mytuple)\n",
        "type(mytuple)\n",
        "\n",
        "# Allow duplicate entry\n",
        "mytuple = (\"Maxx\", 5 , 10.5, True, \"Max\", 5)\n",
        "print(mytuple)\n",
        "type(mytuple)\n",
        "\n",
        "# Another type\n",
        "\n",
        "mytuple1 = tuple([\"Maxx\", 10, False])\n",
        "print(mytuple1)\n",
        "type(mytuple1)"
      ],
      "metadata": {
        "colab": {
          "base_uri": "https://localhost:8080/"
        },
        "id": "eiATMoUhOuto",
        "outputId": "376dc428-73b7-4a24-b29d-590f7dd5e371"
      },
      "execution_count": 12,
      "outputs": [
        {
          "output_type": "stream",
          "name": "stdout",
          "text": [
            "('Maxx', 5, 10.5, True)\n",
            "('Maxx', 5, 10.5, True, 'Max', 5)\n",
            "('Maxx', 10, False)\n"
          ]
        },
        {
          "output_type": "execute_result",
          "data": {
            "text/plain": [
              "tuple"
            ]
          },
          "metadata": {},
          "execution_count": 12
        }
      ]
    },
    {
      "cell_type": "code",
      "source": [
        "# Indexing of tuple\n",
        "print(mytuple)\n",
        "\n",
        "print(mytuple[0])\n",
        "print(mytuple[1])\n",
        "print(mytuple[2],\"\\n\")\n",
        "\n",
        "# itering\n",
        "for i in mytuple1:\n",
        "  print(i)"
      ],
      "metadata": {
        "colab": {
          "base_uri": "https://localhost:8080/"
        },
        "id": "L_hSv2wjQ6cm",
        "outputId": "73f7b731-b4be-48ed-baa5-e3272adf062c"
      },
      "execution_count": 21,
      "outputs": [
        {
          "output_type": "stream",
          "name": "stdout",
          "text": [
            "('Maxx', 5, 10.5, True, 'Max', 5)\n",
            "Maxx\n",
            "5\n",
            "10.5 \n",
            "\n",
            "Maxx\n",
            "10\n",
            "False\n"
          ]
        }
      ]
    },
    {
      "cell_type": "code",
      "source": [
        "# checking the element\n",
        "print(mytuple1)\n",
        "\n",
        "if \"Maxx\" in mytuple1:\n",
        "  print(\"Yes\\n\")\n",
        "else:\n",
        "  print(\"no\\n\")\n",
        "\n",
        "if \"Max\" in mytuple1:\n",
        "  print(\"Yes\\n\")\n",
        "else:\n",
        "  print(\"no\\n\")\n"
      ],
      "metadata": {
        "colab": {
          "base_uri": "https://localhost:8080/"
        },
        "id": "ez5p27orSAYs",
        "outputId": "77237b4c-aa3d-4797-d94a-fb1752cfbc40"
      },
      "execution_count": 29,
      "outputs": [
        {
          "output_type": "stream",
          "name": "stdout",
          "text": [
            "('Maxx', 10, False)\n",
            "Yes\n",
            "\n",
            "no\n",
            "\n"
          ]
        }
      ]
    },
    {
      "cell_type": "code",
      "source": [
        "# Length and count commands\n",
        "print(mytuple)\n",
        "\n",
        "print(len(mytuple))\n",
        "\n",
        "print(mytuple.count(\"Maxx\"))"
      ],
      "metadata": {
        "colab": {
          "base_uri": "https://localhost:8080/"
        },
        "id": "L2RRybeuSs9e",
        "outputId": "78d2d146-2744-4a7c-cb4e-ab3a80f2549f"
      },
      "execution_count": 35,
      "outputs": [
        {
          "output_type": "stream",
          "name": "stdout",
          "text": [
            "('Maxx', 5, 10.5, True, 'Max', 5)\n",
            "6\n",
            "1\n"
          ]
        }
      ]
    },
    {
      "cell_type": "code",
      "source": [
        "# Converting tuple into list\n",
        "\n",
        "mytuple= (\"a\",\"c\",\"d\",\"v\",\"k\")\n",
        "\n",
        "my_list = list(mytuple)\n",
        "print(my_list)\n",
        "\n",
        "mytuple2 = tuple(my_list)\n",
        "print(mytuple2)"
      ],
      "metadata": {
        "colab": {
          "base_uri": "https://localhost:8080/"
        },
        "id": "HoiMQcIaTjE6",
        "outputId": "d25783d5-e8a8-4124-f7fd-938c50e825ee"
      },
      "execution_count": 39,
      "outputs": [
        {
          "output_type": "stream",
          "name": "stdout",
          "text": [
            "['a', 'c', 'd', 'v', 'k']\n",
            "('a', 'c', 'd', 'v', 'k')\n"
          ]
        }
      ]
    },
    {
      "cell_type": "code",
      "source": [
        "# Slicing of tuple\n",
        "print(mytuple2)\n",
        "b = mytuple2[0:5]\n",
        "print(b)\n",
        "b = mytuple2[0:4]\n",
        "print(b)\n",
        "b = mytuple2[:3]\n",
        "print(b)\n",
        "b = mytuple2[::-1]\n",
        "print(b)\n",
        "\n",
        "# Index command\n",
        "print(mytuple.index('c'))\n",
        "print(mytuple.index('d'))"
      ],
      "metadata": {
        "colab": {
          "base_uri": "https://localhost:8080/"
        },
        "id": "CMcQBn9XUg0f",
        "outputId": "0d6a599d-2cc8-4a35-f8df-24e961fa0d2b"
      },
      "execution_count": 55,
      "outputs": [
        {
          "output_type": "stream",
          "name": "stdout",
          "text": [
            "('a', 'c', 'd', 'v', 'k')\n",
            "('a', 'c', 'd', 'v', 'k')\n",
            "('a', 'c', 'd', 'v')\n",
            "('a', 'c', 'd')\n",
            "('k', 'v', 'd', 'c', 'a')\n",
            "1\n",
            "2\n"
          ]
        }
      ]
    },
    {
      "cell_type": "code",
      "source": [
        "# Unpacking of tuple\n",
        "\n",
        "a = (0,1,2)\n",
        "i1,i2,i3 = a\n",
        "\n",
        "print(i1)\n",
        "print(i2)\n",
        "print(i3)\n",
        "\n",
        "a = (0,1)\n",
        "i1,i2,i3 = a\n",
        "\n",
        "print(i1)\n",
        "print(i2)\n",
        "print(i3)\n"
      ],
      "metadata": {
        "colab": {
          "base_uri": "https://localhost:8080/",
          "height": 287
        },
        "id": "AFpJ8t_IVtbE",
        "outputId": "e0cdb529-52a3-45e1-f54d-922d4d9b2fe8"
      },
      "execution_count": 50,
      "outputs": [
        {
          "output_type": "stream",
          "name": "stdout",
          "text": [
            "0\n",
            "1\n",
            "2\n"
          ]
        },
        {
          "output_type": "error",
          "ename": "ValueError",
          "evalue": "ignored",
          "traceback": [
            "\u001b[0;31m---------------------------------------------------------------------------\u001b[0m",
            "\u001b[0;31mValueError\u001b[0m                                Traceback (most recent call last)",
            "\u001b[0;32m<ipython-input-50-e70dee4443b2>\u001b[0m in \u001b[0;36m<module>\u001b[0;34m()\u001b[0m\n\u001b[1;32m      9\u001b[0m \u001b[0;34m\u001b[0m\u001b[0m\n\u001b[1;32m     10\u001b[0m \u001b[0ma\u001b[0m \u001b[0;34m=\u001b[0m \u001b[0;34m(\u001b[0m\u001b[0;36m0\u001b[0m\u001b[0;34m,\u001b[0m\u001b[0;36m1\u001b[0m\u001b[0;34m)\u001b[0m\u001b[0;34m\u001b[0m\u001b[0;34m\u001b[0m\u001b[0m\n\u001b[0;32m---> 11\u001b[0;31m \u001b[0mi1\u001b[0m\u001b[0;34m,\u001b[0m\u001b[0mi2\u001b[0m\u001b[0;34m,\u001b[0m\u001b[0mi3\u001b[0m \u001b[0;34m=\u001b[0m \u001b[0ma\u001b[0m\u001b[0;34m\u001b[0m\u001b[0;34m\u001b[0m\u001b[0m\n\u001b[0m\u001b[1;32m     12\u001b[0m \u001b[0;34m\u001b[0m\u001b[0m\n\u001b[1;32m     13\u001b[0m \u001b[0mprint\u001b[0m\u001b[0;34m(\u001b[0m\u001b[0mi1\u001b[0m\u001b[0;34m)\u001b[0m\u001b[0;34m\u001b[0m\u001b[0;34m\u001b[0m\u001b[0m\n",
            "\u001b[0;31mValueError\u001b[0m: not enough values to unpack (expected 3, got 2)"
          ]
        }
      ]
    },
    {
      "cell_type": "code",
      "source": [
        "# Unpacking of tuple\n",
        "a = (0,1,2,3,4,5)\n",
        "i1 , *i2, i3 = a\n",
        "print(i1)\n",
        "print(i2)\n",
        "print(i3)\n"
      ],
      "metadata": {
        "colab": {
          "base_uri": "https://localhost:8080/"
        },
        "id": "8bIdqyx9WKMq",
        "outputId": "f9039804-e07f-487d-ab7a-6b29d72a4258"
      },
      "execution_count": 52,
      "outputs": [
        {
          "output_type": "stream",
          "name": "stdout",
          "text": [
            "0\n",
            "[1, 2, 3, 4]\n",
            "5\n"
          ]
        }
      ]
    },
    {
      "cell_type": "code",
      "source": [
        "dir(mytuple)"
      ],
      "metadata": {
        "colab": {
          "base_uri": "https://localhost:8080/"
        },
        "id": "KPfbhTVbOV7x",
        "outputId": "61ecd2e5-2d97-42a1-f5ba-ce9c36b5552f"
      },
      "execution_count": 4,
      "outputs": [
        {
          "output_type": "execute_result",
          "data": {
            "text/plain": [
              "['__add__',\n",
              " '__class__',\n",
              " '__contains__',\n",
              " '__delattr__',\n",
              " '__dir__',\n",
              " '__doc__',\n",
              " '__eq__',\n",
              " '__format__',\n",
              " '__ge__',\n",
              " '__getattribute__',\n",
              " '__getitem__',\n",
              " '__getnewargs__',\n",
              " '__gt__',\n",
              " '__hash__',\n",
              " '__init__',\n",
              " '__init_subclass__',\n",
              " '__iter__',\n",
              " '__le__',\n",
              " '__len__',\n",
              " '__lt__',\n",
              " '__mul__',\n",
              " '__ne__',\n",
              " '__new__',\n",
              " '__reduce__',\n",
              " '__reduce_ex__',\n",
              " '__repr__',\n",
              " '__rmul__',\n",
              " '__setattr__',\n",
              " '__sizeof__',\n",
              " '__str__',\n",
              " '__subclasshook__',\n",
              " 'count',\n",
              " 'index']"
            ]
          },
          "metadata": {},
          "execution_count": 4
        }
      ]
    },
    {
      "cell_type": "code",
      "source": [
        ""
      ],
      "metadata": {
        "id": "m6mv9I7sOo4w"
      },
      "execution_count": null,
      "outputs": []
    }
  ]
}